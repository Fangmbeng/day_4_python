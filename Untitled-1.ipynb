{
 "cells": [
  {
   "attachments": {},
   "cell_type": "markdown",
   "metadata": {},
   "source": [
    "Exercises\n",
    "1) Create a program that allows a user to continue to add people to an address book until the user quits. Once the user quits, break out of the loop and print out the name and address of everyone in the address book\n",
    "Steps\n",
    "Create a function that will ask user for name and addresses and stores them in a dictionary\n",
    "Define an empty dictionary with which to work (global or local variable?)\n",
    "Begin a loop that will continue to ask a user for information until the user \"quits\"\n",
    "If the user does not quit, ask for a name and address and store the values into variables\n",
    "Add information to the dictionary with name as the key and address as the value\n",
    "If the user does quit, end the loop\n",
    "Print out the information from the dictionary in a formatted way\n",
    "Execute/Call the function"
   ]
  },
  {
   "cell_type": "code",
   "execution_count": 1,
   "metadata": {},
   "outputs": [],
   "source": [
    "list = {}\n",
    "\n",
    "def user(name, address):\n",
    "    list[name] = address\n",
    "    return\n",
    "\n",
    "def main():\n",
    "\n",
    "    while True:\n",
    "        action = input(\"Add info or quit: \")\n",
    "        if action != \"quit\":\n",
    "            name = input(\"Username: \")\n",
    "            address = input(\"Address: \")\n",
    "            user(name, address)\n",
    "            print(list)\n",
    "        else:\n",
    "            break\n",
    "\n",
    "main()"
   ]
  },
  {
   "attachments": {},
   "cell_type": "markdown",
   "metadata": {},
   "source": [
    "2) Best Time to Meet\n",
    "Billy is trying to figure out if there is a time that he and his team can meet to work on the project. His three teammates each give him a list of times they are available ('HH:MM' 24-hour). Create a function that will take in an original list plus any number of lists of teammate's available times (*remember *args*) and return a list of times where everyone can meet."
   ]
  },
  {
   "cell_type": "code",
   "execution_count": null,
   "metadata": {},
   "outputs": [],
   "source": [
    "person1 = ['09:00', '10:30', '11:30', '12:00', '13:00', '14:30']\n",
    "person2 = ['09:30', '10:00', '10:30', '12:00', '14:30', '16:00']\n",
    "person3 = ['09:00', '09:30', '11:00', '11:30', '12:00', '13:30', '14:30', '15:00']\n",
    "person4 = ['11:00', '11:30', '12:00', '14:00', '14:30', '16:30', '17:00']\n",
    "\n",
    "\n",
    "# Available Times: '12:00' and '14:30'\n",
    "def meeting(i, a, e, o):\n",
    "    for x in i:\n",
    "        if x in a:\n",
    "            if x in e:\n",
    "                if x in o:\n",
    "                    print(f\"Available time: {x}\")\n",
    "\n",
    "\n",
    "meeting(person3, person4, person1, person2)"
   ]
  }
 ],
 "metadata": {
  "kernelspec": {
   "display_name": "Python 3",
   "language": "python",
   "name": "python3"
  },
  "language_info": {
   "codemirror_mode": {
    "name": "ipython",
    "version": 3
   },
   "file_extension": ".py",
   "mimetype": "text/x-python",
   "name": "python",
   "nbconvert_exporter": "python",
   "pygments_lexer": "ipython3",
   "version": "3.9.1 (tags/v3.9.1:1e5d33e, Dec  7 2020, 17:08:21) [MSC v.1927 64 bit (AMD64)]"
  },
  "orig_nbformat": 4,
  "vscode": {
   "interpreter": {
    "hash": "ffc532ed8a784cdfb8a39261f01be3d3895cee2e2b54e8698a7318bacbcb2147"
   }
  }
 },
 "nbformat": 4,
 "nbformat_minor": 2
}
